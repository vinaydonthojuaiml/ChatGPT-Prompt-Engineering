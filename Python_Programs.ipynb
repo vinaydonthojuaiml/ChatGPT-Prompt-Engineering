{
  "nbformat": 4,
  "nbformat_minor": 0,
  "metadata": {
    "colab": {
      "provenance": [],
      "authorship_tag": "ABX9TyM+EJ7Ki2n5KpeYCThLfNM9",
      "include_colab_link": true
    },
    "kernelspec": {
      "name": "python3",
      "display_name": "Python 3"
    },
    "language_info": {
      "name": "python"
    }
  },
  "cells": [
    {
      "cell_type": "markdown",
      "metadata": {
        "id": "view-in-github",
        "colab_type": "text"
      },
      "source": [
        "<a href=\"https://colab.research.google.com/github/vinaydonthojuaiml/ChatGPT-Prompt-Engineering/blob/main/Python_Programs.ipynb\" target=\"_parent\"><img src=\"https://colab.research.google.com/assets/colab-badge.svg\" alt=\"Open In Colab\"/></a>"
      ]
    },
    {
      "cell_type": "code",
      "execution_count": 3,
      "metadata": {
        "colab": {
          "base_uri": "https://localhost:8080/"
        },
        "id": "bKa-clj-aVDL",
        "outputId": "a86677e8-43a5-4c40-8b02-1d2ec71a46f2"
      },
      "outputs": [
        {
          "output_type": "stream",
          "name": "stdout",
          "text": [
            "Sum of all elements in list1: 27\n"
          ]
        }
      ],
      "source": [
        "# Write a Python program to sum all the items in a list.\n",
        "\n",
        "total = 0\n",
        "#creating a list\n",
        "list1 = [2,3,4,5,6,7]\n",
        "\n",
        "#Iterate each element in list and add them in variables total\n",
        "\n",
        "for i in range(0,len(list1)):\n",
        "  total = total + list1[i]\n",
        "\n",
        "print(\"Sum of all elements in list1:\",total)\n"
      ]
    },
    {
      "cell_type": "code",
      "source": [
        "# write a python program to sum two lists using for loop\n",
        "\n",
        "list1 = [1,2,3,4,5]\n",
        "list2= [2,3,4,5,6]\n",
        "\n",
        "result = [list1[i]+list2[i] for i in range(len(list1))]\n",
        "print(result)"
      ],
      "metadata": {
        "colab": {
          "base_uri": "https://localhost:8080/"
        },
        "id": "NQbMnzCHbPm3",
        "outputId": "b50e027b-29c1-427d-89ba-fd8012315b85"
      },
      "execution_count": 6,
      "outputs": [
        {
          "output_type": "stream",
          "name": "stdout",
          "text": [
            "[3, 5, 7, 9, 11]\n"
          ]
        }
      ]
    },
    {
      "cell_type": "code",
      "source": [
        "zipped_lists = zip(list1,list2)\n",
        "result = [x+y for (x,y) in zipped_lists]\n",
        "print(result)"
      ],
      "metadata": {
        "colab": {
          "base_uri": "https://localhost:8080/"
        },
        "id": "u5mvdJf1ctWB",
        "outputId": "465ddba3-24ff-487c-a990-aceef6087951"
      },
      "execution_count": 8,
      "outputs": [
        {
          "output_type": "stream",
          "name": "stdout",
          "text": [
            "[3, 5, 7, 9, 11]\n"
          ]
        }
      ]
    },
    {
      "cell_type": "code",
      "source": [],
      "metadata": {
        "id": "j0c_97K2dv9r"
      },
      "execution_count": null,
      "outputs": []
    }
  ]
}